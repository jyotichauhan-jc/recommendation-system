{
 "cells": [
  {
   "cell_type": "code",
   "execution_count": 1,
   "metadata": {
    "ExecuteTime": {
     "end_time": "2019-10-23T10:58:34.701829Z",
     "start_time": "2019-10-23T10:58:34.695513Z"
    }
   },
   "outputs": [],
   "source": [
    "# !pip install --user implicit"
   ]
  },
  {
   "cell_type": "code",
   "execution_count": 2,
   "metadata": {
    "ExecuteTime": {
     "end_time": "2019-10-23T10:58:59.744890Z",
     "start_time": "2019-10-23T10:58:34.710051Z"
    }
   },
   "outputs": [],
   "source": [
    "import numpy as np\n",
    "import pandas as pd\n",
    "import scipy.sparse as sparse\n",
    "import implicit"
   ]
  },
  {
   "cell_type": "code",
   "execution_count": 3,
   "metadata": {
    "ExecuteTime": {
     "end_time": "2019-10-23T10:59:00.371697Z",
     "start_time": "2019-10-23T10:58:59.750176Z"
    }
   },
   "outputs": [
    {
     "data": {
      "text/plain": [
       "(330575, 7)"
      ]
     },
     "execution_count": 3,
     "metadata": {},
     "output_type": "execute_result"
    }
   ],
   "source": [
    "train_df = pd.read_csv('train_recommender.csv')\n",
    "train_df.shape"
   ]
  },
  {
   "cell_type": "code",
   "execution_count": 4,
   "metadata": {
    "ExecuteTime": {
     "end_time": "2019-10-23T10:59:00.580583Z",
     "start_time": "2019-10-23T10:59:00.375469Z"
    },
    "scrolled": true
   },
   "outputs": [
    {
     "data": {
      "text/html": [
       "<div>\n",
       "<style scoped>\n",
       "    .dataframe tbody tr th:only-of-type {\n",
       "        vertical-align: middle;\n",
       "    }\n",
       "\n",
       "    .dataframe tbody tr th {\n",
       "        vertical-align: top;\n",
       "    }\n",
       "\n",
       "    .dataframe thead th {\n",
       "        text-align: right;\n",
       "    }\n",
       "</style>\n",
       "<table border=\"1\" class=\"dataframe\">\n",
       "  <thead>\n",
       "    <tr style=\"text-align: right;\">\n",
       "      <th></th>\n",
       "      <th>Country</th>\n",
       "      <th>CustomerID</th>\n",
       "      <th>InvoiceDate</th>\n",
       "      <th>InvoiceNo</th>\n",
       "      <th>Quantity</th>\n",
       "      <th>StockCode</th>\n",
       "      <th>UnitPrice</th>\n",
       "    </tr>\n",
       "  </thead>\n",
       "  <tbody>\n",
       "    <tr>\n",
       "      <th>0</th>\n",
       "      <td>PX</td>\n",
       "      <td>127269</td>\n",
       "      <td>01/12/10 8:28</td>\n",
       "      <td>127269</td>\n",
       "      <td>7</td>\n",
       "      <td>22633V</td>\n",
       "      <td>1.85</td>\n",
       "    </tr>\n",
       "    <tr>\n",
       "      <th>1</th>\n",
       "      <td>PX</td>\n",
       "      <td>227268</td>\n",
       "      <td>01/12/10 8:34</td>\n",
       "      <td>227268</td>\n",
       "      <td>38</td>\n",
       "      <td>84879M</td>\n",
       "      <td>1.69</td>\n",
       "    </tr>\n",
       "    <tr>\n",
       "      <th>2</th>\n",
       "      <td>PX</td>\n",
       "      <td>227268</td>\n",
       "      <td>01/12/10 8:34</td>\n",
       "      <td>227268</td>\n",
       "      <td>7</td>\n",
       "      <td>22748P</td>\n",
       "      <td>2.10</td>\n",
       "    </tr>\n",
       "    <tr>\n",
       "      <th>3</th>\n",
       "      <td>PX</td>\n",
       "      <td>227268</td>\n",
       "      <td>01/12/10 8:34</td>\n",
       "      <td>227268</td>\n",
       "      <td>9</td>\n",
       "      <td>22749K</td>\n",
       "      <td>3.75</td>\n",
       "    </tr>\n",
       "    <tr>\n",
       "      <th>4</th>\n",
       "      <td>PX</td>\n",
       "      <td>227268</td>\n",
       "      <td>01/12/10 8:34</td>\n",
       "      <td>227268</td>\n",
       "      <td>2</td>\n",
       "      <td>22622G</td>\n",
       "      <td>9.95</td>\n",
       "    </tr>\n",
       "  </tbody>\n",
       "</table>\n",
       "</div>"
      ],
      "text/plain": [
       "  Country  CustomerID    InvoiceDate  InvoiceNo  Quantity StockCode  UnitPrice\n",
       "0      PX      127269  01/12/10 8:28     127269         7    22633V       1.85\n",
       "1      PX      227268  01/12/10 8:34     227268        38    84879M       1.69\n",
       "2      PX      227268  01/12/10 8:34     227268         7    22748P       2.10\n",
       "3      PX      227268  01/12/10 8:34     227268         9    22749K       3.75\n",
       "4      PX      227268  01/12/10 8:34     227268         2    22622G       9.95"
      ]
     },
     "execution_count": 4,
     "metadata": {},
     "output_type": "execute_result"
    }
   ],
   "source": [
    "test_df = pd.read_csv('test_recommender.csv')\n",
    "test_df.head()"
   ]
  },
  {
   "cell_type": "code",
   "execution_count": 5,
   "metadata": {
    "ExecuteTime": {
     "end_time": "2019-10-23T10:59:00.603448Z",
     "start_time": "2019-10-23T10:59:00.585335Z"
    },
    "scrolled": true
   },
   "outputs": [],
   "source": [
    "test_df = test_df.drop(['Country','InvoiceDate', 'InvoiceNo'],axis =1)"
   ]
  },
  {
   "cell_type": "code",
   "execution_count": 6,
   "metadata": {
    "ExecuteTime": {
     "end_time": "2019-10-23T10:59:00.768061Z",
     "start_time": "2019-10-23T10:59:00.603448Z"
    }
   },
   "outputs": [],
   "source": [
    "test_df =test_df.dropna()"
   ]
  },
  {
   "cell_type": "code",
   "execution_count": 7,
   "metadata": {
    "ExecuteTime": {
     "end_time": "2019-10-23T10:59:00.866449Z",
     "start_time": "2019-10-23T10:59:00.769913Z"
    }
   },
   "outputs": [
    {
     "data": {
      "text/plain": [
       "(103097, 4)"
      ]
     },
     "execution_count": 7,
     "metadata": {},
     "output_type": "execute_result"
    }
   ],
   "source": [
    "test_df.columns\n",
    "test_df.shape"
   ]
  },
  {
   "cell_type": "code",
   "execution_count": 8,
   "metadata": {
    "ExecuteTime": {
     "end_time": "2019-10-23T10:59:01.006363Z",
     "start_time": "2019-10-23T10:59:00.872490Z"
    }
   },
   "outputs": [],
   "source": [
    "test_df.loc[test_df.Quantity <0, 'Quantity'] = 3"
   ]
  },
  {
   "cell_type": "code",
   "execution_count": 9,
   "metadata": {
    "ExecuteTime": {
     "end_time": "2019-10-23T10:59:01.120828Z",
     "start_time": "2019-10-23T10:59:01.024426Z"
    }
   },
   "outputs": [],
   "source": [
    "test_df.loc[test_df.Quantity > 400,'Quantity']= 3"
   ]
  },
  {
   "cell_type": "code",
   "execution_count": 10,
   "metadata": {
    "ExecuteTime": {
     "end_time": "2019-10-23T10:59:01.559649Z",
     "start_time": "2019-10-23T10:59:01.127981Z"
    }
   },
   "outputs": [],
   "source": [
    "# UnitPrice =0 doesnot make any sense, replacing such values with mean \n",
    "test_df.loc[test_df.UnitPrice <=0.07,'UnitPrice']= 2.08"
   ]
  },
  {
   "cell_type": "code",
   "execution_count": 11,
   "metadata": {
    "ExecuteTime": {
     "end_time": "2019-10-23T10:59:01.930680Z",
     "start_time": "2019-10-23T10:59:01.560644Z"
    }
   },
   "outputs": [],
   "source": [
    "test_df.loc[test_df.UnitPrice >= 20,'UnitPrice']= 2.08"
   ]
  },
  {
   "cell_type": "code",
   "execution_count": 12,
   "metadata": {
    "ExecuteTime": {
     "end_time": "2019-10-23T10:59:03.460872Z",
     "start_time": "2019-10-23T10:59:01.933702Z"
    }
   },
   "outputs": [],
   "source": [
    "test_df['Value']= test_df['Quantity']* test_df['UnitPrice']"
   ]
  },
  {
   "cell_type": "code",
   "execution_count": 13,
   "metadata": {
    "ExecuteTime": {
     "end_time": "2019-10-23T10:59:03.562344Z",
     "start_time": "2019-10-23T10:59:03.473239Z"
    }
   },
   "outputs": [
    {
     "data": {
      "text/html": [
       "<div>\n",
       "<style scoped>\n",
       "    .dataframe tbody tr th:only-of-type {\n",
       "        vertical-align: middle;\n",
       "    }\n",
       "\n",
       "    .dataframe tbody tr th {\n",
       "        vertical-align: top;\n",
       "    }\n",
       "\n",
       "    .dataframe thead th {\n",
       "        text-align: right;\n",
       "    }\n",
       "</style>\n",
       "<table border=\"1\" class=\"dataframe\">\n",
       "  <thead>\n",
       "    <tr style=\"text-align: right;\">\n",
       "      <th></th>\n",
       "      <th>CustomerID</th>\n",
       "      <th>Quantity</th>\n",
       "      <th>StockCode</th>\n",
       "      <th>UnitPrice</th>\n",
       "      <th>Value</th>\n",
       "    </tr>\n",
       "  </thead>\n",
       "  <tbody>\n",
       "    <tr>\n",
       "      <th>11788</th>\n",
       "      <td>117279</td>\n",
       "      <td>2</td>\n",
       "      <td>22788F</td>\n",
       "      <td>19.96</td>\n",
       "      <td>39.92</td>\n",
       "    </tr>\n",
       "    <tr>\n",
       "      <th>12900</th>\n",
       "      <td>363726</td>\n",
       "      <td>1</td>\n",
       "      <td>22788F</td>\n",
       "      <td>19.96</td>\n",
       "      <td>19.96</td>\n",
       "    </tr>\n",
       "    <tr>\n",
       "      <th>13879</th>\n",
       "      <td>397296</td>\n",
       "      <td>1</td>\n",
       "      <td>22120W</td>\n",
       "      <td>19.96</td>\n",
       "      <td>19.96</td>\n",
       "    </tr>\n",
       "    <tr>\n",
       "      <th>14169</th>\n",
       "      <td>316377</td>\n",
       "      <td>1</td>\n",
       "      <td>22768C</td>\n",
       "      <td>19.96</td>\n",
       "      <td>19.96</td>\n",
       "    </tr>\n",
       "    <tr>\n",
       "      <th>14322</th>\n",
       "      <td>76419</td>\n",
       "      <td>1</td>\n",
       "      <td>22776E</td>\n",
       "      <td>19.96</td>\n",
       "      <td>19.96</td>\n",
       "    </tr>\n",
       "    <tr>\n",
       "      <th>15000</th>\n",
       "      <td>232668</td>\n",
       "      <td>1</td>\n",
       "      <td>22487O</td>\n",
       "      <td>19.96</td>\n",
       "      <td>19.96</td>\n",
       "    </tr>\n",
       "    <tr>\n",
       "      <th>15392</th>\n",
       "      <td>440856</td>\n",
       "      <td>1</td>\n",
       "      <td>22776E</td>\n",
       "      <td>19.96</td>\n",
       "      <td>19.96</td>\n",
       "    </tr>\n",
       "    <tr>\n",
       "      <th>15853</th>\n",
       "      <td>508185</td>\n",
       "      <td>1</td>\n",
       "      <td>22968N</td>\n",
       "      <td>19.96</td>\n",
       "      <td>19.96</td>\n",
       "    </tr>\n",
       "    <tr>\n",
       "      <th>18302</th>\n",
       "      <td>358236</td>\n",
       "      <td>1</td>\n",
       "      <td>22120W</td>\n",
       "      <td>19.96</td>\n",
       "      <td>19.96</td>\n",
       "    </tr>\n",
       "    <tr>\n",
       "      <th>18317</th>\n",
       "      <td>358236</td>\n",
       "      <td>1</td>\n",
       "      <td>22487O</td>\n",
       "      <td>19.96</td>\n",
       "      <td>19.96</td>\n",
       "    </tr>\n",
       "  </tbody>\n",
       "</table>\n",
       "</div>"
      ],
      "text/plain": [
       "       CustomerID  Quantity StockCode  UnitPrice  Value\n",
       "11788      117279         2    22788F      19.96  39.92\n",
       "12900      363726         1    22788F      19.96  19.96\n",
       "13879      397296         1    22120W      19.96  19.96\n",
       "14169      316377         1    22768C      19.96  19.96\n",
       "14322       76419         1    22776E      19.96  19.96\n",
       "15000      232668         1    22487O      19.96  19.96\n",
       "15392      440856         1    22776E      19.96  19.96\n",
       "15853      508185         1    22968N      19.96  19.96\n",
       "18302      358236         1    22120W      19.96  19.96\n",
       "18317      358236         1    22487O      19.96  19.96"
      ]
     },
     "execution_count": 13,
     "metadata": {},
     "output_type": "execute_result"
    }
   ],
   "source": [
    "test_df.nlargest(10,'UnitPrice')"
   ]
  },
  {
   "cell_type": "code",
   "execution_count": 14,
   "metadata": {
    "ExecuteTime": {
     "end_time": "2019-10-23T10:59:03.688587Z",
     "start_time": "2019-10-23T10:59:03.569040Z"
    }
   },
   "outputs": [],
   "source": [
    "test_customer = test_df['CustomerID'].drop_duplicates().tolist()\n",
    "train_customer = train_df['CustomerID'].drop_duplicates().tolist()"
   ]
  },
  {
   "cell_type": "code",
   "execution_count": 15,
   "metadata": {
    "ExecuteTime": {
     "end_time": "2019-10-23T10:59:03.910276Z",
     "start_time": "2019-10-23T10:59:03.699234Z"
    }
   },
   "outputs": [
    {
     "name": "stdout",
     "output_type": "stream",
     "text": [
      "3522\n"
     ]
    }
   ],
   "source": [
    "test_df['StockCode'] = test_df['StockCode'].astype(\"category\")\n",
    "d= dict(enumerate(test_df['StockCode'].cat.categories))\n",
    "test_df['product_id']= test_df['StockCode'].cat.codes\n",
    "print(len(d))\n",
    "test_df['CustomerID'] = test_df['CustomerID'].astype(\"category\")\n",
    "test_df['cust_id']= test_df['CustomerID'].cat.codes"
   ]
  },
  {
   "cell_type": "code",
   "execution_count": 16,
   "metadata": {
    "ExecuteTime": {
     "end_time": "2019-10-23T10:59:03.990737Z",
     "start_time": "2019-10-23T10:59:03.910276Z"
    },
    "scrolled": true
   },
   "outputs": [],
   "source": [
    "# print(test_df[['product_id','cust_id']])"
   ]
  },
  {
   "cell_type": "code",
   "execution_count": 17,
   "metadata": {
    "ExecuteTime": {
     "end_time": "2019-10-23T10:59:04.120426Z",
     "start_time": "2019-10-23T10:59:04.000920Z"
    }
   },
   "outputs": [
    {
     "data": {
      "text/plain": [
       "(3522, 628)"
      ]
     },
     "execution_count": 17,
     "metadata": {},
     "output_type": "execute_result"
    }
   ],
   "source": [
    "#user_item matrix\n",
    "item_user= sparse.csr_matrix((test_df['Value'].astype(float), (test_df['product_id'], test_df['cust_id'])))\n",
    "user_item = sparse.csr_matrix((test_df['Value'].astype(float),(test_df['cust_id'], test_df['product_id'])))\n",
    "item_user.shape"
   ]
  },
  {
   "cell_type": "code",
   "execution_count": 18,
   "metadata": {
    "ExecuteTime": {
     "end_time": "2019-10-23T10:59:04.173359Z",
     "start_time": "2019-10-23T10:59:04.128875Z"
    },
    "scrolled": true
   },
   "outputs": [],
   "source": [
    "#model = implicit.als.AlternatingLeastSquares(factors=15,regularization=0.01, iterations=20)"
   ]
  },
  {
   "cell_type": "code",
   "execution_count": 19,
   "metadata": {
    "ExecuteTime": {
     "end_time": "2019-10-23T10:59:04.291219Z",
     "start_time": "2019-10-23T10:59:04.174355Z"
    }
   },
   "outputs": [],
   "source": [
    "model =implicit.bpr.BayesianPersonalizedRanking(factors= 10, learning_rate=0.01, regularization = 0.01, iterations =20)"
   ]
  },
  {
   "cell_type": "code",
   "execution_count": 20,
   "metadata": {
    "ExecuteTime": {
     "end_time": "2019-10-23T10:59:04.387592Z",
     "start_time": "2019-10-23T10:59:04.295215Z"
    }
   },
   "outputs": [],
   "source": [
    "import os \n",
    "try: \n",
    "    os.environ[\"OMP_NUM_THREADS\"] = \"1\" \n",
    "    import numpy \n",
    "finally: \n",
    "   del os.environ[\"OMP_NUM_THREADS\"] "
   ]
  },
  {
   "cell_type": "code",
   "execution_count": 21,
   "metadata": {
    "ExecuteTime": {
     "end_time": "2019-10-23T10:59:04.523018Z",
     "start_time": "2019-10-23T10:59:04.393480Z"
    }
   },
   "outputs": [],
   "source": [
    "#Calculating the confidence\n",
    "alpha_val = 30\n",
    "data_conf = (item_user * alpha_val).astype('double')"
   ]
  },
  {
   "cell_type": "code",
   "execution_count": 22,
   "metadata": {
    "ExecuteTime": {
     "end_time": "2019-10-23T10:59:05.136074Z",
     "start_time": "2019-10-23T10:59:04.529603Z"
    }
   },
   "outputs": [
    {
     "data": {
      "application/vnd.jupyter.widget-view+json": {
       "model_id": "5f0ddd05cc4840809b5f00262788e673",
       "version_major": 2,
       "version_minor": 0
      },
      "text/plain": [
       "HBox(children=(IntProgress(value=0, max=20), HTML(value='')))"
      ]
     },
     "metadata": {},
     "output_type": "display_data"
    },
    {
     "name": "stdout",
     "output_type": "stream",
     "text": [
      "\n"
     ]
    }
   ],
   "source": [
    "#Fit the model\n",
    "model.fit(data_conf)"
   ]
  },
  {
   "cell_type": "markdown",
   "metadata": {},
   "source": [
    "#### Creating user recommendation"
   ]
  },
  {
   "cell_type": "code",
   "execution_count": 23,
   "metadata": {
    "ExecuteTime": {
     "end_time": "2019-10-23T10:59:05.144765Z",
     "start_time": "2019-10-23T10:59:05.141059Z"
    },
    "scrolled": false
   },
   "outputs": [],
   "source": [
    "#creating recommendation for all users in the training set\n",
    "#recommended =model.recommend_all(user_items = user_item, N = 350, recalculate_user= True, filter_already_liked_items =False)\n",
    "#recommended"
   ]
  },
  {
   "cell_type": "code",
   "execution_count": 24,
   "metadata": {
    "ExecuteTime": {
     "end_time": "2019-10-23T10:59:05.359934Z",
     "start_time": "2019-10-23T10:59:05.153584Z"
    }
   },
   "outputs": [
    {
     "data": {
      "application/vnd.jupyter.widget-view+json": {
       "model_id": "0c16d2b29aa44c2998c3dfe69473d061",
       "version_major": 2,
       "version_minor": 0
      },
      "text/plain": [
       "HBox(children=(IntProgress(value=0, max=628), HTML(value='')))"
      ]
     },
     "metadata": {},
     "output_type": "display_data"
    },
    {
     "name": "stdout",
     "output_type": "stream",
     "text": [
      "\n"
     ]
    },
    {
     "data": {
      "text/plain": [
       "array([[1245,  154, 3137, ..., 1607,  460,  475],\n",
       "       [1245,  154, 1756, ...,  148,  868, 2138],\n",
       "       [1245,  154, 3120, ..., 1287, 1286,   18],\n",
       "       ...,\n",
       "       [1245,  154, 1756, ..., 2121,  462,  578],\n",
       "       [1245,  154, 3137, ..., 2832, 2121, 1210],\n",
       "       [1245,  154, 1756, ..., 1749, 1031, 2239]], dtype=int32)"
      ]
     },
     "execution_count": 24,
     "metadata": {},
     "output_type": "execute_result"
    }
   ],
   "source": [
    "#creating recommendation for all users in the training set\n",
    "recommended =model.recommend_all(user_items = user_item, N = 315, filter_already_liked_items =False)\n",
    "recommended"
   ]
  },
  {
   "cell_type": "code",
   "execution_count": 25,
   "metadata": {
    "ExecuteTime": {
     "end_time": "2019-10-23T10:59:05.375193Z",
     "start_time": "2019-10-23T10:59:05.364021Z"
    }
   },
   "outputs": [
    {
     "data": {
      "text/plain": [
       "(628, 315)"
      ]
     },
     "execution_count": 25,
     "metadata": {},
     "output_type": "execute_result"
    }
   ],
   "source": [
    "recommended.shape"
   ]
  },
  {
   "cell_type": "code",
   "execution_count": 26,
   "metadata": {
    "ExecuteTime": {
     "end_time": "2019-10-23T10:59:05.657213Z",
     "start_time": "2019-10-23T10:59:05.379355Z"
    }
   },
   "outputs": [
    {
     "data": {
      "text/plain": [
       "array([['22423U', '20724F', '85123AY', ..., '22804V', '21314Q', '21340G'],\n",
       "       ['22423U', '20724F', '22960K', ..., '20713F', '21974Q', '23370K'],\n",
       "       ['22423U', '20724F', '85099BJ', ..., '22468F', '22467G',\n",
       "        '15056ND'],\n",
       "       ...,\n",
       "       ['22423U', '20724F', '22960K', ..., '23349J', '21317B', '21498M'],\n",
       "       ['22423U', '20724F', '85123AY', ..., '84596BQ', '23349J',\n",
       "        '22381J'],\n",
       "       ['22423U', '20724F', '22960K', ..., '22952P', '22180L', '23485W']],\n",
       "      dtype='<U8')"
      ]
     },
     "execution_count": 26,
     "metadata": {},
     "output_type": "execute_result"
    }
   ],
   "source": [
    "result=np.vectorize(d.get)(recommended)\n",
    "result"
   ]
  },
  {
   "cell_type": "code",
   "execution_count": 27,
   "metadata": {
    "ExecuteTime": {
     "end_time": "2019-10-23T10:59:05.877491Z",
     "start_time": "2019-10-23T10:59:05.657213Z"
    }
   },
   "outputs": [],
   "source": [
    "df = pd.DataFrame()\n",
    "df['CustomerID']= test_customer\n",
    "df['Items'] = result.reshape(628,315).tolist()"
   ]
  },
  {
   "cell_type": "code",
   "execution_count": 28,
   "metadata": {
    "ExecuteTime": {
     "end_time": "2019-10-23T10:59:06.244945Z",
     "start_time": "2019-10-23T10:59:05.880359Z"
    },
    "scrolled": true
   },
   "outputs": [
    {
     "data": {
      "text/html": [
       "<div>\n",
       "<style scoped>\n",
       "    .dataframe tbody tr th:only-of-type {\n",
       "        vertical-align: middle;\n",
       "    }\n",
       "\n",
       "    .dataframe tbody tr th {\n",
       "        vertical-align: top;\n",
       "    }\n",
       "\n",
       "    .dataframe thead th {\n",
       "        text-align: right;\n",
       "    }\n",
       "</style>\n",
       "<table border=\"1\" class=\"dataframe\">\n",
       "  <thead>\n",
       "    <tr style=\"text-align: right;\">\n",
       "      <th></th>\n",
       "      <th>CustomerID</th>\n",
       "      <th>Items</th>\n",
       "    </tr>\n",
       "  </thead>\n",
       "  <tbody>\n",
       "    <tr>\n",
       "      <th>0</th>\n",
       "      <td>127269</td>\n",
       "      <td>[22423U, 20724F, 85123AY, 22960K, 22457C, 8487...</td>\n",
       "    </tr>\n",
       "    <tr>\n",
       "      <th>1</th>\n",
       "      <td>227268</td>\n",
       "      <td>[22423U, 20724F, 22960K, 85123AY, 22727B, 2245...</td>\n",
       "    </tr>\n",
       "    <tr>\n",
       "      <th>2</th>\n",
       "      <td>327267</td>\n",
       "      <td>[22423U, 20724F, 85099BJ, 84879M, 22457C, 2272...</td>\n",
       "    </tr>\n",
       "    <tr>\n",
       "      <th>3</th>\n",
       "      <td>162738</td>\n",
       "      <td>[22423U, 85123AY, 22457C, 20724F, 22960K, 2103...</td>\n",
       "    </tr>\n",
       "    <tr>\n",
       "      <th>4</th>\n",
       "      <td>252747</td>\n",
       "      <td>[22423U, 20724F, 22960K, 85123AY, 22457C, 8487...</td>\n",
       "    </tr>\n",
       "  </tbody>\n",
       "</table>\n",
       "</div>"
      ],
      "text/plain": [
       "   CustomerID                                              Items\n",
       "0      127269  [22423U, 20724F, 85123AY, 22960K, 22457C, 8487...\n",
       "1      227268  [22423U, 20724F, 22960K, 85123AY, 22727B, 2245...\n",
       "2      327267  [22423U, 20724F, 85099BJ, 84879M, 22457C, 2272...\n",
       "3      162738  [22423U, 85123AY, 22457C, 20724F, 22960K, 2103...\n",
       "4      252747  [22423U, 20724F, 22960K, 85123AY, 22457C, 8487..."
      ]
     },
     "execution_count": 28,
     "metadata": {},
     "output_type": "execute_result"
    }
   ],
   "source": [
    "#storing the submission file\n",
    "submission = df[['CustomerID','Items']]\n",
    "submission.to_csv(\"RecommenderfinalSubmission.csv\",index= False)\n",
    "submission.head()"
   ]
  }
 ],
 "metadata": {
  "kernelspec": {
   "display_name": "Python 3",
   "language": "python",
   "name": "python3"
  },
  "language_info": {
   "codemirror_mode": {
    "name": "ipython",
    "version": 3
   },
   "file_extension": ".py",
   "mimetype": "text/x-python",
   "name": "python",
   "nbconvert_exporter": "python",
   "pygments_lexer": "ipython3",
   "version": "3.7.3"
  }
 },
 "nbformat": 4,
 "nbformat_minor": 2
}
